{
 "cells": [
  {
   "cell_type": "markdown",
   "id": "fca81e0d",
   "metadata": {},
   "source": [
    "### 1.Write a Python program to find those numbers which are divisible by 7 and multiple of 5, between 1500 and 2700 (both included)."
   ]
  },
  {
   "cell_type": "code",
   "execution_count": 24,
   "id": "cfae1346",
   "metadata": {},
   "outputs": [
    {
     "name": "stdout",
     "output_type": "stream",
     "text": [
      "1505\n",
      "1540\n",
      "1575\n",
      "1610\n",
      "1645\n",
      "1680\n",
      "1715\n",
      "1750\n",
      "1785\n",
      "1820\n",
      "1855\n",
      "1890\n",
      "1925\n",
      "1960\n",
      "1995\n",
      "2030\n",
      "2065\n",
      "2100\n",
      "2135\n",
      "2170\n",
      "2205\n",
      "2240\n",
      "2275\n",
      "2310\n",
      "2345\n",
      "2380\n",
      "2415\n",
      "2450\n",
      "2485\n",
      "2520\n",
      "2555\n",
      "2590\n",
      "2625\n",
      "2660\n",
      "2695\n"
     ]
    }
   ],
   "source": [
    "for i in range(1500,2701):\n",
    "    if i%7==0 and i%5==0:\n",
    "        print(i)"
   ]
  },
  {
   "cell_type": "markdown",
   "id": "bf35d74b",
   "metadata": {},
   "source": [
    "### 2.Python program to add two numbers"
   ]
  },
  {
   "cell_type": "code",
   "execution_count": 25,
   "id": "74e1c06d",
   "metadata": {},
   "outputs": [
    {
     "name": "stdout",
     "output_type": "stream",
     "text": [
      "enter two numbers23 23\n",
      "sum is : 46\n"
     ]
    }
   ],
   "source": [
    "num1,num2=map(int,input('enter two numbers').split())\n",
    "sum=num1+num2\n",
    "print('sum is :',sum)"
   ]
  },
  {
   "cell_type": "markdown",
   "id": "5bdb6e23",
   "metadata": {},
   "source": [
    "### 3.Maximum of two numbers in Python"
   ]
  },
  {
   "cell_type": "code",
   "execution_count": 26,
   "id": "b5b2612e",
   "metadata": {},
   "outputs": [
    {
     "name": "stdout",
     "output_type": "stream",
     "text": [
      "enter two numbers21 21\n",
      "maximum value is 21\n"
     ]
    }
   ],
   "source": [
    "a,b=map(int,input('enter two numbers').split())\n",
    "if a>b:\n",
    "    maximum=a\n",
    "    print('maximum value is {}'.format(maximum))\n",
    "else:\n",
    "    maximum=b\n",
    "    print('maximum value is {}'.format(maximum))\n",
    "    "
   ]
  },
  {
   "cell_type": "markdown",
   "id": "b9f94ae5",
   "metadata": {},
   "source": [
    "### 4. Python Program for factorial of a number"
   ]
  },
  {
   "cell_type": "code",
   "execution_count": 27,
   "id": "5f5f0c24",
   "metadata": {},
   "outputs": [
    {
     "data": {
      "text/plain": [
       "3628800"
      ]
     },
     "execution_count": 27,
     "metadata": {},
     "output_type": "execute_result"
    }
   ],
   "source": [
    "def factorial(n):\n",
    "    if n==1 or n==0:\n",
    "        return 1\n",
    "    else :\n",
    "        return n*factorial(n-1)\n",
    "factorial(10)"
   ]
  },
  {
   "cell_type": "markdown",
   "id": "9424580f",
   "metadata": {},
   "source": [
    "### 5.Python Program for simple interest"
   ]
  },
  {
   "cell_type": "code",
   "execution_count": 28,
   "id": "018d4d07",
   "metadata": {},
   "outputs": [
    {
     "name": "stdout",
     "output_type": "stream",
     "text": [
      "SI: 180.0\n"
     ]
    }
   ],
   "source": [
    "def si(p,n,r):\n",
    "    si=p*n*r/100\n",
    "    print('SI:',si)\n",
    "    \n",
    "si(1000,3,6)    "
   ]
  },
  {
   "cell_type": "markdown",
   "id": "dc582f8b",
   "metadata": {},
   "source": [
    "### 6.Python Program for compound interest"
   ]
  },
  {
   "cell_type": "code",
   "execution_count": 29,
   "id": "a2b0d859",
   "metadata": {},
   "outputs": [
    {
     "name": "stdout",
     "output_type": "stream",
     "text": [
      "CI: 123.60000000000014\n"
     ]
    }
   ],
   "source": [
    "def ci(p,n,r):\n",
    "    \n",
    "    amount=p*(pow((1+(r/100)),n))\n",
    "    ci=amount-p          \n",
    "    print('CI:',ci)\n",
    "    \n",
    "ci(1000,2,6)  "
   ]
  },
  {
   "cell_type": "markdown",
   "id": "47c5d451",
   "metadata": {},
   "source": [
    "### 7.Python Program to check Armstrong Number"
   ]
  },
  {
   "cell_type": "code",
   "execution_count": 30,
   "id": "b87fcc9f",
   "metadata": {},
   "outputs": [
    {
     "name": "stdout",
     "output_type": "stream",
     "text": [
      "240 is not an armstrong number\n"
     ]
    }
   ],
   "source": [
    "def armstrong(n):\n",
    "    \n",
    "    sum=0\n",
    "    num=n\n",
    "    while num>0:\n",
    "        \n",
    "        digit=num%10\n",
    "        sum=sum+pow(digit,3)\n",
    "        num=num//10\n",
    "    if(n==sum):\n",
    "        print(n,'is an armstrong number')\n",
    "    else:\n",
    "        print(n,'is not an armstrong number')\n",
    "        \n",
    "    \n",
    "#armstrong(153)\n",
    "armstrong(240)\n",
    "\n",
    "    "
   ]
  },
  {
   "cell_type": "markdown",
   "id": "00815463",
   "metadata": {},
   "source": [
    "### 8.Python Program for Program to find area of a circle"
   ]
  },
  {
   "cell_type": "code",
   "execution_count": 31,
   "id": "8b442bf9",
   "metadata": {},
   "outputs": [
    {
     "name": "stdout",
     "output_type": "stream",
     "text": [
      "area: 254.34\n"
     ]
    }
   ],
   "source": [
    "def circle(r):\n",
    "    area=3.14*r*r\n",
    "    print('area:',area)\n",
    "circle(9)    "
   ]
  },
  {
   "cell_type": "markdown",
   "id": "4bc6880a",
   "metadata": {},
   "source": [
    "### 9.Python program to print all Prime numbers in an Interval"
   ]
  },
  {
   "cell_type": "code",
   "execution_count": 15,
   "id": "fb1a0917",
   "metadata": {},
   "outputs": [
    {
     "name": "stdout",
     "output_type": "stream",
     "text": [
      "211\n",
      "223\n",
      "227\n",
      "229\n",
      "233\n",
      "239\n",
      "241\n",
      "251\n",
      "257\n",
      "263\n",
      "269\n",
      "271\n",
      "277\n",
      "281\n",
      "283\n",
      "293\n"
     ]
    }
   ],
   "source": [
    "\n",
    "for i in range(200,300):\n",
    "    flag=False\n",
    "    for j in range(2,i):\n",
    "        if i%j==0:\n",
    "            flag=True\n",
    "            \n",
    "    if flag==False:\n",
    "        print(i)\n",
    "        \n"
   ]
  },
  {
   "cell_type": "markdown",
   "id": "63ef6d40",
   "metadata": {},
   "source": [
    "### 10. Python program to check whether a number is Prime or not"
   ]
  },
  {
   "cell_type": "code",
   "execution_count": 8,
   "id": "e61017c3",
   "metadata": {},
   "outputs": [
    {
     "name": "stdout",
     "output_type": "stream",
     "text": [
      "20 is not a prime number\n"
     ]
    }
   ],
   "source": [
    "\n",
    "def prime_no(n):\n",
    "    flag=False\n",
    "    for i in range(2,n):\n",
    "        if n%i==0:\n",
    "            flag=True\n",
    "            break\n",
    "    if flag:\n",
    "        print(n,'is not a prime number')\n",
    "    else:\n",
    "        print(n,'is a prime number')\n",
    "        \n",
    "#prime_no(11)  \n",
    "prime_no(20)"
   ]
  },
  {
   "cell_type": "code",
   "execution_count": null,
   "id": "b7001013",
   "metadata": {},
   "outputs": [],
   "source": []
  },
  {
   "cell_type": "code",
   "execution_count": null,
   "id": "3da1b940",
   "metadata": {},
   "outputs": [],
   "source": []
  }
 ],
 "metadata": {
  "kernelspec": {
   "display_name": "Python 3 (ipykernel)",
   "language": "python",
   "name": "python3"
  },
  "language_info": {
   "codemirror_mode": {
    "name": "ipython",
    "version": 3
   },
   "file_extension": ".py",
   "mimetype": "text/x-python",
   "name": "python",
   "nbconvert_exporter": "python",
   "pygments_lexer": "ipython3",
   "version": "3.8.11"
  }
 },
 "nbformat": 4,
 "nbformat_minor": 5
}
