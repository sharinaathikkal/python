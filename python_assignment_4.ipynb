{
 "cells": [
  {
   "cell_type": "markdown",
   "id": "075cd687",
   "metadata": {},
   "source": [
    "### 1.Python program to find smallest number in a list"
   ]
  },
  {
   "cell_type": "code",
   "execution_count": 7,
   "id": "7037829a",
   "metadata": {},
   "outputs": [
    {
     "name": "stdout",
     "output_type": "stream",
     "text": [
      "smallest among the list is : 2\n"
     ]
    }
   ],
   "source": [
    "def smallest(arr):\n",
    "    n=len(arr)\n",
    "    smallest=arr[0]\n",
    "    for i in range(0,n):\n",
    "        if smallest >= arr[i]:\n",
    "            smallest=arr[i]\n",
    "    print('smallest among the list is :',smallest) \n",
    "smallest([23,34,2,43])    "
   ]
  },
  {
   "cell_type": "markdown",
   "id": "8f77b75a",
   "metadata": {},
   "source": [
    "### 2.Python program to find largest number in a list"
   ]
  },
  {
   "cell_type": "code",
   "execution_count": 8,
   "id": "2e4cddc5",
   "metadata": {},
   "outputs": [
    {
     "name": "stdout",
     "output_type": "stream",
     "text": [
      "largest among the list is : 43\n"
     ]
    }
   ],
   "source": [
    "def largest(arr):\n",
    "    n=len(arr)\n",
    "    largest=arr[0]\n",
    "    for i in range(0,n):\n",
    "        if largest<= arr[i]:\n",
    "            largest=arr[i]\n",
    "    print('largest among the list is :',largest) \n",
    "largest([23,34,2,43])    "
   ]
  },
  {
   "cell_type": "markdown",
   "id": "08023853",
   "metadata": {},
   "source": [
    "### 3.Python program to find second largest number in a list"
   ]
  },
  {
   "cell_type": "code",
   "execution_count": 17,
   "id": "1cbe376c",
   "metadata": {},
   "outputs": [
    {
     "name": "stdout",
     "output_type": "stream",
     "text": [
      "second largest no is: 43\n"
     ]
    }
   ],
   "source": [
    "def second(arr):\n",
    "    l=list(set(arr))\n",
    "    l.sort(reverse=True)\n",
    "    print('second largest no is:',l[1])\n",
    "second([23,34,43,34,4,45,23,2,34,45,45])    "
   ]
  },
  {
   "cell_type": "markdown",
   "id": "034d0d36",
   "metadata": {},
   "source": [
    "### 4.Python program to find N largest elements from a list"
   ]
  },
  {
   "cell_type": "code",
   "execution_count": 25,
   "id": "bb324eaa",
   "metadata": {},
   "outputs": [
    {
     "name": "stdout",
     "output_type": "stream",
     "text": [
      "4 largest numbers are :\n",
      "67\n",
      "56\n",
      "45\n",
      "34\n"
     ]
    }
   ],
   "source": [
    "def n_largest(arr,n):\n",
    "    l=list(set(arr))\n",
    "    l.sort(reverse=True)\n",
    "    print('{} largest numbers are :'.format(n))\n",
    "    for i in range(n):\n",
    "        print(l[i])\n",
    "    \n",
    "n_largest([34,56,34,5,45,5,67,45,34,23,56],4)    "
   ]
  },
  {
   "cell_type": "markdown",
   "id": "28489a46",
   "metadata": {},
   "source": [
    "### 5.Python program to print even numbers in a list"
   ]
  },
  {
   "cell_type": "code",
   "execution_count": 3,
   "id": "5b97c974",
   "metadata": {},
   "outputs": [
    {
     "name": "stdout",
     "output_type": "stream",
     "text": [
      "22\n",
      "34\n",
      "4\n",
      "6\n",
      "88\n"
     ]
    }
   ],
   "source": [
    "def even_list(lst):\n",
    "    for i in lst:\n",
    "        if i%2==0:\n",
    "            print(i)\n",
    "even_list([23,22,34,4,5,6,7,89,88])    "
   ]
  },
  {
   "cell_type": "markdown",
   "id": "b10f67e5",
   "metadata": {},
   "source": [
    "### 6.Python program to print odd numbers in a List"
   ]
  },
  {
   "cell_type": "code",
   "execution_count": 4,
   "id": "5a2b6bd2",
   "metadata": {},
   "outputs": [
    {
     "name": "stdout",
     "output_type": "stream",
     "text": [
      "23\n",
      "5\n",
      "7\n",
      "89\n"
     ]
    }
   ],
   "source": [
    "def odd_list(lst):\n",
    "    for i in lst:\n",
    "        if i%2!=0:\n",
    "            print(i)\n",
    "odd_list([23,22,34,4,5,6,7,89,88])    "
   ]
  },
  {
   "cell_type": "markdown",
   "id": "825b70bd",
   "metadata": {},
   "source": [
    "### 7.Python program to print all even numbers in a range"
   ]
  },
  {
   "cell_type": "code",
   "execution_count": 8,
   "id": "11f7b890",
   "metadata": {},
   "outputs": [
    {
     "name": "stdout",
     "output_type": "stream",
     "text": [
      "10\n",
      "12\n",
      "14\n",
      "16\n",
      "18\n",
      "20\n"
     ]
    }
   ],
   "source": [
    "def even_range(n1,n2):\n",
    "    \n",
    "    for i in range(n1,n2+2):\n",
    "        if i %2==0:\n",
    "            print(i)\n",
    "even_range(10,20)            "
   ]
  },
  {
   "cell_type": "markdown",
   "id": "2f0bb49e",
   "metadata": {},
   "source": [
    "### 8.Python program to print all odd numbers in a range"
   ]
  },
  {
   "cell_type": "code",
   "execution_count": 10,
   "id": "23763817",
   "metadata": {},
   "outputs": [
    {
     "name": "stdout",
     "output_type": "stream",
     "text": [
      "11\n",
      "13\n",
      "15\n",
      "17\n",
      "19\n"
     ]
    }
   ],
   "source": [
    "def odd_range(n1,n2):\n",
    "    \n",
    "    for i in range(n1,n2):\n",
    "        if i %2!=0:\n",
    "            print(i)\n",
    "odd_range(10,20)            "
   ]
  },
  {
   "cell_type": "markdown",
   "id": "22a61240",
   "metadata": {},
   "source": [
    "### 9.Python program to print positive numbers in a list"
   ]
  },
  {
   "cell_type": "code",
   "execution_count": 11,
   "id": "577f22d5",
   "metadata": {},
   "outputs": [
    {
     "name": "stdout",
     "output_type": "stream",
     "text": [
      "23\n",
      "34\n",
      "6\n"
     ]
    }
   ],
   "source": [
    "def positive(lst):\n",
    "    \n",
    "    for i in lst:\n",
    "        if i>0:\n",
    "            print(i)\n",
    "positive([23,-1,-23,34,6,-2])            "
   ]
  },
  {
   "cell_type": "markdown",
   "id": "33720425",
   "metadata": {},
   "source": [
    "### 10.Python program to print negative numbers in a list"
   ]
  },
  {
   "cell_type": "code",
   "execution_count": 12,
   "id": "ec744b10",
   "metadata": {},
   "outputs": [
    {
     "name": "stdout",
     "output_type": "stream",
     "text": [
      "-1\n",
      "-23\n",
      "-2\n"
     ]
    }
   ],
   "source": [
    "def negative(lst):\n",
    "    \n",
    "    for i in lst:\n",
    "        if i<0:\n",
    "            print(i)\n",
    "negative([23,-1,-23,34,6,-2])            "
   ]
  },
  {
   "cell_type": "markdown",
   "id": "91e6b275",
   "metadata": {},
   "source": [
    "### 11.Python program to print all positive numbers in a range"
   ]
  },
  {
   "cell_type": "code",
   "execution_count": 15,
   "id": "fe263b71",
   "metadata": {},
   "outputs": [
    {
     "name": "stdout",
     "output_type": "stream",
     "text": [
      "1\n",
      "2\n",
      "3\n",
      "4\n",
      "5\n",
      "6\n",
      "7\n",
      "8\n",
      "9\n",
      "10\n",
      "11\n",
      "12\n",
      "13\n",
      "14\n",
      "15\n",
      "16\n",
      "17\n",
      "18\n",
      "19\n",
      "20\n",
      "21\n",
      "22\n"
     ]
    }
   ],
   "source": [
    "def positive_range(n1,n2):\n",
    "    for i in range(n1,n2):\n",
    "        if i>0:\n",
    "            print(i)\n",
    "positive_range(-23,+23)            "
   ]
  },
  {
   "cell_type": "code",
   "execution_count": null,
   "id": "c6f89d3a",
   "metadata": {},
   "outputs": [],
   "source": []
  },
  {
   "cell_type": "code",
   "execution_count": null,
   "id": "2e42d5e7",
   "metadata": {},
   "outputs": [],
   "source": []
  }
 ],
 "metadata": {
  "kernelspec": {
   "display_name": "Python 3 (ipykernel)",
   "language": "python",
   "name": "python3"
  },
  "language_info": {
   "codemirror_mode": {
    "name": "ipython",
    "version": 3
   },
   "file_extension": ".py",
   "mimetype": "text/x-python",
   "name": "python",
   "nbconvert_exporter": "python",
   "pygments_lexer": "ipython3",
   "version": "3.8.11"
  }
 },
 "nbformat": 4,
 "nbformat_minor": 5
}
