{
 "cells": [
  {
   "cell_type": "markdown",
   "id": "1a39e46b",
   "metadata": {},
   "source": [
    "### 1.Python Program for Find reminder of array multiplication divided by n"
   ]
  },
  {
   "cell_type": "code",
   "execution_count": 23,
   "id": "8de9b8a7",
   "metadata": {},
   "outputs": [
    {
     "data": {
      "text/plain": [
       "2"
      ]
     },
     "execution_count": 23,
     "metadata": {},
     "output_type": "execute_result"
    }
   ],
   "source": [
    "def find_remainder(arr,n):\n",
    "    mul=1\n",
    "    for i in range(len(arr)):\n",
    "        mul=arr[i]*mul\n",
    "        rem=mul%n\n",
    "    return(rem) \n",
    "\n",
    "find_remainder([5,3,2,1],4)"
   ]
  },
  {
   "cell_type": "markdown",
   "id": "7f0c93cc",
   "metadata": {},
   "source": [
    "### 2.Python Program to check if given array is Monotonic"
   ]
  },
  {
   "cell_type": "code",
   "execution_count": 64,
   "id": "646fd513",
   "metadata": {},
   "outputs": [
    {
     "name": "stdout",
     "output_type": "stream",
     "text": [
      "monotonic\n",
      "monotonic\n",
      "monotonic\n",
      "not monotonic\n",
      "monotonic\n"
     ]
    }
   ],
   "source": [
    "def monotonic(arr):\n",
    "    f1=0\n",
    "    f2=0\n",
    "    n=len(arr)\n",
    "    for i in range(0,n-1):\n",
    "        if arr[i]<arr[i+1]:\n",
    "            f1=1\n",
    "            break\n",
    "    if f1==0:\n",
    "        print('monotonic')\n",
    "    else:\n",
    "        \n",
    "        \n",
    "        for i in range(0,n-1):\n",
    "            \n",
    "            if arr[i]>arr[i+1]:\n",
    "                \n",
    "                f2=1\n",
    "                break\n",
    "        if f2==0:\n",
    "            \n",
    "            print('monotonic')\n",
    "        if f1==1 and f2==1:\n",
    "            \n",
    "            print('not monotonic')    \n",
    "monotonic([1,2,3,4,5])  \n",
    "monotonic([5,4,3,2,1]) \n",
    "monotonic([1]) \n",
    "monotonic([5,4,4,6]) \n",
    "monotonic([1,1,1,1]) \n",
    "            "
   ]
  },
  {
   "cell_type": "markdown",
   "id": "a4ea15c0",
   "metadata": {},
   "source": [
    "### 3.Python program to interchange first and last elements in a list"
   ]
  },
  {
   "cell_type": "code",
   "execution_count": 28,
   "id": "52ce4560",
   "metadata": {},
   "outputs": [
    {
     "name": "stdout",
     "output_type": "stream",
     "text": [
      "[5, 3, 4, 2]\n"
     ]
    }
   ],
   "source": [
    "l=[2,3,4,5]\n",
    "n=len(l)\n",
    "l[0],l[n-1]=l[n-1],l[0]\n",
    "print(l)"
   ]
  },
  {
   "cell_type": "code",
   "execution_count": 29,
   "id": "a0cb2682",
   "metadata": {},
   "outputs": [
    {
     "name": "stdout",
     "output_type": "stream",
     "text": [
      "before interchanging: [1, 2, 3, 4, 5]\n",
      "after interchanging: [5, 2, 3, 4, 1]\n"
     ]
    }
   ],
   "source": [
    "def interchange(l):\n",
    "    n=len(l)\n",
    "    print('before interchanging:',l)\n",
    "    l[0],l[n-1]=l[n-1],l[0]\n",
    "    print('after interchanging:',l)\n",
    "interchange([1,2,3,4,5])    "
   ]
  },
  {
   "cell_type": "markdown",
   "id": "0ec04e05",
   "metadata": {},
   "source": [
    "### 4.Python program to swap two elements in a list"
   ]
  },
  {
   "cell_type": "code",
   "execution_count": 30,
   "id": "0d61c7c9",
   "metadata": {},
   "outputs": [
    {
     "name": "stdout",
     "output_type": "stream",
     "text": [
      "before swapping: [2, 3, 4, 5, 6, 7, 8]\n",
      "after swapping [2, 3, 6, 5, 4, 7, 8]\n"
     ]
    }
   ],
   "source": [
    "def swap(lst,pos1,pos2):\n",
    "    print('before swapping:',lst)\n",
    "    lst[pos1],lst[pos2]=lst[pos2],lst[pos1]\n",
    "    print('after swapping',lst)\n",
    "swap([2,3,4,5,6,7,8],2,4)    "
   ]
  },
  {
   "cell_type": "markdown",
   "id": "8b8d0ff7",
   "metadata": {},
   "source": [
    "### 5.write a program to find length of list"
   ]
  },
  {
   "cell_type": "code",
   "execution_count": 33,
   "id": "c4e7de5e",
   "metadata": {},
   "outputs": [
    {
     "name": "stdout",
     "output_type": "stream",
     "text": [
      "length of the list is: 6\n"
     ]
    }
   ],
   "source": [
    "def length(arr):\n",
    "    count=0\n",
    "    for i in arr:\n",
    "        count+=1\n",
    "    print('length of the list is:',count)    \n",
    "length([2,2,1,3,4,6])    "
   ]
  },
  {
   "cell_type": "markdown",
   "id": "f08f37b7",
   "metadata": {},
   "source": [
    "### 6.write a program to check if element exists in list"
   ]
  },
  {
   "cell_type": "code",
   "execution_count": 42,
   "id": "e533b7ac",
   "metadata": {},
   "outputs": [
    {
     "name": "stdout",
     "output_type": "stream",
     "text": [
      "element 4 present\n"
     ]
    }
   ],
   "source": [
    "\n",
    "def check(arr,elem):\n",
    "    n=len(arr)\n",
    "    f=0\n",
    "    for i in range(0,n):\n",
    "        if arr[i]==elem:\n",
    "            f=1\n",
    "            break\n",
    "    if f==1:\n",
    "        print('element {} present'.format(elem))\n",
    "    else:\n",
    "        print('element {} absent'.format(elem))\n",
    "check([1,2,3,4,5],4)        "
   ]
  },
  {
   "cell_type": "markdown",
   "id": "92ab3656",
   "metadata": {},
   "source": [
    "### 7.write a program to clear a list in Python"
   ]
  },
  {
   "cell_type": "code",
   "execution_count": 43,
   "id": "444aa0cd",
   "metadata": {},
   "outputs": [
    {
     "name": "stdout",
     "output_type": "stream",
     "text": [
      "list before clearing: [3, 4, 5, 6, 7]\n",
      "list after clearing: []\n"
     ]
    }
   ],
   "source": [
    "def clear(arr):\n",
    "    print('list before clearing:',arr)\n",
    "    arr.clear()\n",
    "    print('list after clearing:',arr)\n",
    "clear([3,4,5,6,7])    "
   ]
  },
  {
   "cell_type": "markdown",
   "id": "2b2d40c4",
   "metadata": {},
   "source": [
    "### 8.write a program to Reversing a List"
   ]
  },
  {
   "cell_type": "code",
   "execution_count": 44,
   "id": "095d86ca",
   "metadata": {},
   "outputs": [
    {
     "name": "stdout",
     "output_type": "stream",
     "text": [
      "list : [5, 6, 7, 8, 9]\n",
      "reversed list: [9, 8, 7, 6, 5]\n"
     ]
    }
   ],
   "source": [
    "def rev(arr):\n",
    "    print('list :',arr)\n",
    "    print('reversed list:',arr[::-1])\n",
    "rev([5,6,7,8,9])    "
   ]
  },
  {
   "cell_type": "markdown",
   "id": "d66b004b",
   "metadata": {},
   "source": [
    "### 9.write a program to find sum of elements in list"
   ]
  },
  {
   "cell_type": "code",
   "execution_count": 45,
   "id": "0f81e007",
   "metadata": {},
   "outputs": [
    {
     "name": "stdout",
     "output_type": "stream",
     "text": [
      "sum of elements : 20\n"
     ]
    }
   ],
   "source": [
    "def sum_list(arr):\n",
    "    n=len(arr)\n",
    "    sum_=0\n",
    "    for i in range(0,n):\n",
    "        sum_=sum_+arr[i]\n",
    "    print('sum of elements :',sum_)  \n",
    "sum_list([2,3,4,5,6])    "
   ]
  },
  {
   "cell_type": "markdown",
   "id": "a39fc211",
   "metadata": {},
   "source": [
    "### 10.write a program to Multiply all numbers in the list"
   ]
  },
  {
   "cell_type": "code",
   "execution_count": 48,
   "id": "c0eb9761",
   "metadata": {},
   "outputs": [
    {
     "name": "stdout",
     "output_type": "stream",
     "text": [
      "after multiplication we get : 720\n"
     ]
    }
   ],
   "source": [
    "def mul_list(arr):\n",
    "    n=len(arr)\n",
    "    mul=1\n",
    "    for i in range(0,n):\n",
    "        mul=mul*arr[i]\n",
    "    print('after multiplication we get :',mul)  \n",
    "mul_list([2,3,4,5,6])    "
   ]
  },
  {
   "cell_type": "code",
   "execution_count": null,
   "id": "f6aa4c60",
   "metadata": {},
   "outputs": [],
   "source": []
  }
 ],
 "metadata": {
  "kernelspec": {
   "display_name": "Python 3 (ipykernel)",
   "language": "python",
   "name": "python3"
  },
  "language_info": {
   "codemirror_mode": {
    "name": "ipython",
    "version": 3
   },
   "file_extension": ".py",
   "mimetype": "text/x-python",
   "name": "python",
   "nbconvert_exporter": "python",
   "pygments_lexer": "ipython3",
   "version": "3.8.11"
  }
 },
 "nbformat": 4,
 "nbformat_minor": 5
}
